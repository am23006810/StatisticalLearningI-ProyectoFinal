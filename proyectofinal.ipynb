{
 "cells": [
  {
   "attachments": {},
   "cell_type": "markdown",
   "id": "a886abee-b224-418f-be39-60ffa6ca7720",
   "metadata": {},
   "source": [
    "# Proyecto final"
   ]
  },
  {
   "attachments": {},
   "cell_type": "markdown",
   "id": "5ecf992f",
   "metadata": {},
   "source": [
    "Andrea Monzon 23006810\n",
    "\n",
    "Juan Pablo Rodas 23007521"
   ]
  },
  {
   "cell_type": "code",
   "execution_count": null,
   "id": "ac3cd36f-186c-4573-9b8a-907c67fad7bf",
   "metadata": {},
   "outputs": [],
   "source": []
  }
 ],
 "metadata": {
  "kernelspec": {
   "display_name": "default:Python",
   "language": "python",
   "name": "conda-env-default-py"
  },
  "language_info": {
   "codemirror_mode": {
    "name": "ipython",
    "version": 3
   },
   "file_extension": ".py",
   "mimetype": "text/x-python",
   "name": "python",
   "nbconvert_exporter": "python",
   "pygments_lexer": "ipython3",
   "version": "3.9.13"
  }
 },
 "nbformat": 4,
 "nbformat_minor": 5
}
